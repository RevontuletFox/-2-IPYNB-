{
 "cells": [
  {
   "cell_type": "code",
   "execution_count": 2,
   "metadata": {},
   "outputs": [
    {
     "name": "stdout",
     "output_type": "stream",
     "text": [
      "请输入需要ban的因子序号，用空格连接。\n",
      "提示：致命勾引 27 震荡攻击 0 裂隙 45 风暴英雄 46 软 44 红衣 41 散射 28 双压 30 飞弹-13 \n",
      "已ban因子：致命勾引、震荡攻击、双重压力、飞弹大战、暴风雪\n",
      "\n",
      "请在下方的程序中开始随机\n"
     ]
    }
   ],
   "source": [
    "\"\"\"0.5分：震荡攻击 强行征用 生命吸取 光子过载 时空立场 时间扭曲 晶矿护盾 龙卷风暴 8个\n",
    "\n",
    "1分：轨道轰炸 行尸走肉 暗无天日 坚强意志 鼓舞人心 激光钻机 默哀 净化光束 焦土政策 9个\n",
    "\n",
    "1.5分：闪避机动 短视症 异形寄生 减伤屏障 超远视距 速度狂魔 自毁程序 来去无踪 丧尸大战 9个\n",
    "\n",
    "2分：强磁雷场 致命勾引 伤害散射 岩浆爆发 双重压力 无边恐惧 相互摧毁 7个\n",
    "\n",
    "2.5分：暴风雪 飞弹大战（ob如选择人族可自己维修） 核弹打击 复仇战士 灵能爆表 5个\n",
    "\n",
    "3分：扫雷专家，黑死病，进攻部署 3个\n",
    "\n",
    "3.5分：虚空重生者，给我死吧，力量蜕变 3个\n",
    "\n",
    "4分：同化体 1个\n",
    "\n",
    "5分：虚空裂隙，风暴英雄 2个\"\"\"\n",
    "\n",
    "\n",
    "import random\n",
    "import pyperclip\n",
    "\n",
    "mutators=[\"震荡攻击\",\"强行征用\",\"生命吸取\",\"光子过载\",\"时空立场\",\"时间扭曲\",\"晶矿护盾\",\"龙卷风暴\",\"轨道轰炸\",\n",
    " \"行尸走肉\",\"暗无天日\",\"坚强意志\",\"鼓舞人心\",\"激光钻机\",\"默哀\",\"净化光束\",\"焦土政策\",\n",
    " \"闪避机动\",\"短视症\",\"异形寄生\",\"减伤屏障\",\"超远视距\",\"速度狂魔\",\"自毁程序\",\"来去无踪\",\n",
    " \"丧尸大战\",\"强磁雷场\",\"致命勾引\",\"伤害散射\",\"岩浆爆发\",\"双重压力\",\"无边恐惧\",\"相互摧毁\",\n",
    " \"暴风雪\",\"飞弹大战\",\"核弹打击\",\"复仇战士\",\"灵能爆表\",\"扫雷专家\",\"黑死病\",\"进攻部署\",\n",
    " \"虚空重生者\",\"给我死吧\",\"力量蜕变\",\"同化体\",\"虚空裂隙\",\"风暴英雄\"]\n",
    "#缺少：极性不定，杀戮机器人，炸弹机器人（默认ban掉） 双打随机因子时应该加上\n",
    "maps = [\"黑暗杀星\",\"聚铁成兵\",\"虚空撕裂\",\"机会渺茫\",\"熔火危机\",\"湮灭快车\",\n",
    "      \"天界封锁\",\"升格之链\",\"克哈裂痕\",\"虚空降临\",\"亡者之夜\",\"营救矿工\",\"净网行动\",\"往日神庙\"]\n",
    "#司马摇篮默认ban掉了的（不会真有人打司马摇篮吧）\n",
    "num = [8,9,9,7,5,3,3,1,2]\n",
    "simplesco = [0.5,1,1.5,2,2.5,3,3.5,4,5]\n",
    "\n",
    "print(\"请输入需要ban的因子序号，用空格连接。\")\n",
    "print(\"提示：致命勾引 27 震荡攻击 0 裂隙 45 风暴英雄 46 软 44 红衣 41 散射 28 双压 30 飞弹-13 \")\n",
    "ban = list(map(int,input().split()))\n",
    "for i in range(len(ban)):\n",
    "    if (ban[i]) < 0:\n",
    "        ban[i] += len(mutators)\n",
    "banlst = []\n",
    "if (ban != []):\n",
    "    for i in ban:\n",
    "        banlst += [mutators[i]]\n",
    "    print(\"已ban因子：\"+\"、\".join(banlst))\n",
    "    print()\n",
    "    print(\"请在下方的程序中开始随机\")\n",
    "else:\n",
    "    print(\"ban因子已关闭\")\n",
    "# 27 0 30 -13 -14"
   ]
  },
  {
   "cell_type": "code",
   "execution_count": 6,
   "metadata": {},
   "outputs": [
    {
     "name": "stdout",
     "output_type": "stream",
     "text": [
      "请输入因子数:\n",
      "\n",
      "======升格之链======\n",
      "======因子如下======\n",
      "行尸走肉\n",
      "暗无天日\n",
      "力量蜕变\n",
      "坚强意志\n",
      "伤害散射\n",
      "同化体\n",
      "默哀\n",
      "===================\n",
      "总分为13.5\n",
      "ban因子已开启\n",
      "\n",
      "当前随机的因子已自动拷贝到剪贴板 <3\n"
     ]
    }
   ],
   "source": [
    "points = []\n",
    "suc = 1\n",
    "for i in range(9):\n",
    "    for j in range(num[i]):\n",
    "        points+=[simplesco[i]]\n",
    "print(\"请输入因子数:\")\n",
    "mutatornum = int(input())\n",
    "if mutatornum > 10:\n",
    "    print(\"埃蒙吃完饭就把你们全鲨了\")\n",
    "elif mutatornum < 1:\n",
    "    print(\"好哥哥，这怎么随的出来？\")\n",
    "else:\n",
    "    print()\n",
    "    while suc == 1:\n",
    "        suc = 0\n",
    "        mutatorlst = random.sample(range(0, len(mutators)-1), mutatornum)\n",
    "        #print(mutatorlst)\n",
    "        for i in ban:\n",
    "            if (i in mutatorlst):\n",
    "                suc = 1\n",
    "                #print(mutators[i]+\"不满足\") 用于测试，由于实际因子增加不会超过10个\n",
    "    totalsco = 0\n",
    "    #重新评估combo时因子的分数，如勾引软 短视裂隙 散射吸血 分数不能简单加和\n",
    "    mapitem = maps[random.randint(0,len(maps)-1)]\n",
    "    print(\"======\"+mapitem+\"======\")\n",
    "    print(\"======因子如下======\")\n",
    "    result = []\n",
    "    for i in mutatorlst:\n",
    "        print(mutators[i])\n",
    "        result += [mutators[i]]\n",
    "        totalsco += points[i]\n",
    "    print(\"===================\")\n",
    "    print(\"总分为\"+str(totalsco))\n",
    "    if (len(ban) == 0):\n",
    "        print(\"没有ban掉的因子\")\n",
    "    else:\n",
    "        print(\"ban因子已开启\")\n",
    "    print()\n",
    "    pyperclip.copy(mapitem+\":\"+\"、\".join(result))\n",
    "    print(\"当前随机的因子已自动拷贝到剪贴板 <3\")\n",
    "    #增加功能：图形化随机界面，埃蒙PvP模式 单刷指挥官随机 指挥官组合随机 比赛选手名称，比赛标题"
   ]
  },
  {
   "cell_type": "code",
   "execution_count": 5,
   "metadata": {},
   "outputs": [
    {
     "name": "stdout",
     "output_type": "stream",
     "text": [
      "阿巴瑟\n",
      "菲尼克斯\n"
     ]
    }
   ],
   "source": [
    "commanders = [\"雷诺\",\"凯瑞甘\",\"阿塔尼斯\",\"斯旺\",\"扎加拉\",\"沃拉尊\",\"阿拉纳克\",\"诺娃\",\"凯拉克斯\",\"阿巴瑟\",\"斯托科夫\",\n",
    "             \"斯台特曼\",\"泰凯斯\",\"泽拉图\",\"蒙斯克\",\"菲尼克斯\",\"德哈卡\",\"霍纳与汉\"]\n",
    "\n",
    "\"\"\"指挥官分T划分\n",
    "T0 德哈卡 泰凯斯 泽拉图 诺娃\n",
    "T1 斯台特曼 蒙斯克 阿巴瑟\n",
    "T2 扎加拉 斯旺 凯拉克斯 菲尼克斯 阿拉纳克\n",
    "T3 沃拉尊 凯瑞甘 阿塔尼斯 斯托科夫\n",
    "T4 雷诺 霍纳与汉\n",
    "\"\"\"\n",
    "for i in range(2):\n",
    "    print(commanders[random.randint(0,len(commanders)-1)])"
   ]
  },
  {
   "cell_type": "code",
   "execution_count": null,
   "metadata": {},
   "outputs": [],
   "source": []
  },
  {
   "cell_type": "code",
   "execution_count": null,
   "metadata": {},
   "outputs": [],
   "source": []
  }
 ],
 "metadata": {
  "kernelspec": {
   "display_name": "Python 3 (ipykernel)",
   "language": "python",
   "name": "python3"
  },
  "language_info": {
   "codemirror_mode": {
    "name": "ipython",
    "version": 3
   },
   "file_extension": ".py",
   "mimetype": "text/x-python",
   "name": "python",
   "nbconvert_exporter": "python",
   "pygments_lexer": "ipython3",
   "version": "3.11.9"
  }
 },
 "nbformat": 4,
 "nbformat_minor": 4
}
